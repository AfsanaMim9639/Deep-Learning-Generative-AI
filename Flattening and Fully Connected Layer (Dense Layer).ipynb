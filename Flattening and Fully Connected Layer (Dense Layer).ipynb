{
 "cells": [
  {
   "cell_type": "markdown",
   "id": "81649144-813b-4429-932d-726ddf4e9fc8",
   "metadata": {},
   "source": [
    "<h2>Flattening এবং Fully Connected Layer (Dense Layer)</h2>\n",
    "\n",
    "<h3>১. Flattening কী?</h3>\n",
    "<p>\n",
    "CNN-এর Convolution ও Pooling লেয়ারের শেষে পাওয়া যায় একটি 2D বা 3D ফিচার ম্যাপ। কিন্তু নিউরাল নেটওয়ার্কের Fully Connected Layer এ ঢুকানোর আগে এই ফিচার ম্যাপটিকে <strong>1D vector</strong>-এ রূপান্তর করতে হয়। এই প্রক্রিয়াটিকে বলা হয় <strong>Flattening</strong>।\n",
    "</p>\n",
    "\n",
    "<h4>উদাহরণ:</h4>\n",
    "<pre>\n",
    "Feature Map Shape: (3, 3, 2)\n",
    "\n",
    "Flattened Vector: [f₁, f₂, f₃, ..., f₁₈] → Shape: (1, 18)\n",
    "</pre>\n",
    "\n",
    "<ul>\n",
    "  <li>এই ভেক্টরটি পরবর্তী Fully Connected লেয়ারে পাঠানো হয়।</li>\n",
    "  <li>Flattening কোনো শেখার কাজ করে না, শুধু রূপান্তর করে।</li>\n",
    "</ul>\n",
    "\n",
    "<hr/>\n",
    "\n",
    "<h3>২. Fully Connected Layer (FC Layer) বা Dense Layer কী?</h3>\n",
    "<p>\n",
    "Fully Connected Layer হ’ল নিউরাল নেটওয়ার্কের শেষ অংশ, যেখানে প্রতিটি নিউরন আগের লেয়ারের প্রতিটি ইনপুটের সাথে সংযুক্ত থাকে। এটি <strong>classification বা regression</strong> এর কাজ করে।\n",
    "</p>\n",
    "\n",
    "<h4>মূল বৈশিষ্ট্য:</h4>\n",
    "<ul>\n",
    "  <li>Input: 1D Flattened vector</li>\n",
    "  <li>Operation: <code>Output = (Weights × Input) + Bias</code></li>\n",
    "  <li>Activation Function: ReLU, Sigmoid, Softmax ইত্যাদি</li>\n",
    "</ul>\n",
    "\n",
    "<h4>Fully Connected Layer-এর কাজ:</h4>\n",
    "<ul>\n",
    "  <li>High-level features থেকে prediction করা</li>\n",
    "  <li>শেষ লেয়ারে Softmax দিয়ে class probabilities তৈরি করা</li>\n",
    "</ul>\n",
    "\n",
    "<h4>উদাহরণ:</h4>\n",
    "<pre>\n",
    "Flattened Vector: [0.2, 0.7, 0.9]\n",
    "\n",
    "Fully Connected Layer Output: [0.1, 0.8, 0.1] → 3 Classes Probability (via Softmax)\n",
    "</pre>\n",
    "\n",
    "<hr/>\n",
    "\n",
    "<h3>৩. Flattening এবং FC Layer-এর কাজের ধাপ</h3>\n",
    "<ol>\n",
    "  <li>Convolution + Pooling → Feature Map তৈরি করে</li>\n",
    "  <li>Flattening → Feature Map → 1D Vector</li>\n",
    "  <li>Fully Connected Layer → Prediction তৈরি করে</li>\n",
    "</ol>\n",
    "\n",
    "<h3>৪. উপসংহার</h3>\n",
    "<p>\n",
    "Flattening ও Fully Connected Layer মিলে CNN-কে Classification Task-এ সম্পূর্ণ করে। Flattening হল কনভোলিউশনাল ফিচারকে ফাইনাল প্রেডিকশনের জন্য প্রস্তুত করার ধাপ এবং FC Layer সেই ফিচার থেকে নির্ধারিত ফলাফল প্রদান করে।\n",
    "</p>\n"
   ]
  },
  {
   "cell_type": "code",
   "execution_count": null,
   "id": "d46efe33-3e9f-4016-be74-55c43c287c56",
   "metadata": {},
   "outputs": [],
   "source": []
  }
 ],
 "metadata": {
  "kernelspec": {
   "display_name": "Python 3 (ipykernel)",
   "language": "python",
   "name": "python3"
  },
  "language_info": {
   "codemirror_mode": {
    "name": "ipython",
    "version": 3
   },
   "file_extension": ".py",
   "mimetype": "text/x-python",
   "name": "python",
   "nbconvert_exporter": "python",
   "pygments_lexer": "ipython3",
   "version": "3.10.0"
  }
 },
 "nbformat": 4,
 "nbformat_minor": 5
}
