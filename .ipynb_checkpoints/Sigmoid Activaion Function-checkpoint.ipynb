{
 "cells": [
  {
   "cell_type": "markdown",
   "id": "7bbf0de5-9962-457a-a462-dbfa53bb0837",
   "metadata": {},
   "source": [
    "# অ্যাক্টিভেশন ফাংশন (Activation Function)\n",
    "\n",
    "অ্যাক্টিভেশন ফাংশন হলো একটি গাণিতিক ফাংশন যা নিউরাল নেটওয়ার্কের প্রতিটি নিউরনের ইনপুটকে প্রক্রিয়া করে আউটপুটে রূপান্তর করে। এটি নির্ধারণ করে কোন নিউরনটি সক্রিয় (activate) হবে।\n",
    "\n",
    "## সাধারণভাবে ব্যবহৃত অ্যাক্টিভেশন ফাংশনের ধরন:\n",
    "\n",
    "### 1. Sigmoid ফাংশন\n",
    "**ফর্মুলা:**  \n",
    "σ(x) = 1 / (1 + e<sup>−x</sup>)  \n",
    "ইনপুটকে 0 থেকে 1 এর মধ্যে নিয়ে আসে। তবে, ভ্যানিশিং গ্রেডিয়েন্ট সমস্যা দেখা দিতে পারে।\n",
    "\n",
    "### 2. Tanh ফাংশন  \n",
    "**ফর্মুলা:**  \n",
    "tanh(x) = (e<sup>x</sup> − e<sup>−x</sup>) / (e<sup>x</sup> + e<sup>−x</sup>)  \n",
    "রেঞ্জ: −1 থেকে +1। Sigmoid-এর তুলনায় ভালো পারফরম্যান্স দেয়।\n",
    "\n",
    "### 3. ReLU (Rectified Linear Unit)  \n",
    "**ফর্মুলা:**  \n",
    "f(x) = max(0, x)  \n",
    "পজিটিভ ইনপুটে আউটপুট দেয়, নেগেটিভ হলে 0। Deep Learning-এ সবচেয়ে বেশি ব্যবহৃত হয়।\n",
    "\n",
    "### 4. Leaky ReLU  \n",
    "**ফর্মুলা:**\n",
    "```\n",
    "f(x) = x,       যদি x > 0  \n",
    "     = αx,      যদি x ≤ 0\n",
    "```\n",
    "ReLU যেখানে 0 দেয়, সেখানে Leaky ReLU একটি ছোট মান রেখে দেয়।\n",
    "\n",
    "## তুলনামূলক টেবিল:\n",
    "\n",
    "| ফাংশন       | আউটপুট রেঞ্জ | ভ্যানিশিং গ্রেডিয়েন্ট | ব্যবহারের ক্ষেত্র          |\n",
    "|-------------|---------------|-------------------------|----------------------------|\n",
    "| Sigmoid     | (0, 1)        | হ্যাঁ                   | Classification            |\n",
    "| Tanh        | (−1, 1)       | হ্যাঁ                   | RNN, NLP                   |\n",
    "| ReLU        | [0, ∞)        | না (কিন্তু dead neuron সমস্যা থাকতে পারে) | CNN, Deep NN |\n",
    "| Leaky ReLU  | (−∞, ∞)       | না                      | যেখানে ReLU কাজ করে না   |\n"
   ]
  },
  {
   "cell_type": "code",
   "execution_count": null,
   "id": "f551bc88-f599-4a87-bddf-3dc34f9793e7",
   "metadata": {},
   "outputs": [],
   "source": []
  }
 ],
 "metadata": {
  "kernelspec": {
   "display_name": "Python 3 (ipykernel)",
   "language": "python",
   "name": "python3"
  },
  "language_info": {
   "codemirror_mode": {
    "name": "ipython",
    "version": 3
   },
   "file_extension": ".py",
   "mimetype": "text/x-python",
   "name": "python",
   "nbconvert_exporter": "python",
   "pygments_lexer": "ipython3",
   "version": "3.10.0"
  }
 },
 "nbformat": 4,
 "nbformat_minor": 5
}
