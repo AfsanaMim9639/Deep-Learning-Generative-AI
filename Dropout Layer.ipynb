{
 "cells": [
  {
   "cell_type": "markdown",
   "id": "1aa11a94-61ab-4ddb-a0a8-579b6042de89",
   "metadata": {},
   "source": [
    "<h2>Dropout Layer (ড্রপআউট লেয়ার)</h2>\n",
    "\n",
    "<p>\n",
    "Dropout হলো একটি রেগুলারাইজেশন টেকনিক যা নিউরাল নেটওয়ার্কে ওভারফিটিং কমাতে সাহায্য করে। এটি ট্রেইনিং এর সময় র‍্যান্ডমলি কিছু নিউরনকে নিষ্ক্রিয় করে দেয়, যাতে নেটওয়ার্ক নির্দিষ্ট কিছু ফিচারের উপর অতিরিক্ত নির্ভরশীল না হয়।\n",
    "</p>\n",
    "\n",
    "<h3>কিভাবে কাজ করে:</h3>\n",
    "<ul>\n",
    "  <li>Dropout লেয়ার একটি নির্দিষ্ট probability (যেমন 0.5) অনুযায়ী নিউরনগুলোর মধ্যে কিছু অংশকে অস্থায়ীভাবে বাদ দেয়।</li>\n",
    "  <li>প্রতিবার ট্রেইনিং চলাকালীন ভিন্ন ভিন্ন নিউরন বাদ দেওয়া হয়, ফলে মডেল বেশি জেনারালাইজড হয়।</li>\n",
    "</ul>\n",
    "\n",
    "<h3>সুবিধা:</h3>\n",
    "<ul>\n",
    "  <li>ওভারফিটিং হ্রাস পায়।</li>\n",
    "  <li>মডেলের জেনারালাইজেশন ক্ষমতা বৃদ্ধি পায়।</li>\n",
    "</ul>\n",
    "\n",
    "<h3>অসুবিধা:</h3>\n",
    "<ul>\n",
    "  <li>মডেল ট্রেইন করতে বেশি সময় লাগে।</li>\n",
    "  <li>নেটওয়ার্কের কনভার্জেন্স ধীর হতে পারে।</li>\n",
    "</ul>\n",
    "\n",
    "<h3>উদাহরণ (Keras ব্যবহার করে):</h3>\n",
    "<pre>\n",
    "from tensorflow.keras.models import Sequential\n",
    "from tensorflow.keras.layers import Dense, Dropout\n",
    "\n",
    "model = Sequential()\n",
    "model.add(Dense(128, activation='relu', input_shape=(784,)))\n",
    "model.add(Dropout(0.5))  # ৫০% নিউরন ট্রেইনিং এর সময় বাদ যাবে\n",
    "model.add(Dense(64, activation='relu'))\n",
    "model.add(Dropout(0.3))  # ৩০% নিউরন বাদ যাবে\n",
    "model.add(Dense(10, activation='softmax'))\n",
    "</pre>\n"
   ]
  },
  {
   "cell_type": "code",
   "execution_count": null,
   "id": "aec39e00-9c0c-4d65-a008-94e2e6c19d6b",
   "metadata": {},
   "outputs": [],
   "source": []
  }
 ],
 "metadata": {
  "kernelspec": {
   "display_name": "Python 3 (ipykernel)",
   "language": "python",
   "name": "python3"
  },
  "language_info": {
   "codemirror_mode": {
    "name": "ipython",
    "version": 3
   },
   "file_extension": ".py",
   "mimetype": "text/x-python",
   "name": "python",
   "nbconvert_exporter": "python",
   "pygments_lexer": "ipython3",
   "version": "3.10.0"
  }
 },
 "nbformat": 4,
 "nbformat_minor": 5
}
