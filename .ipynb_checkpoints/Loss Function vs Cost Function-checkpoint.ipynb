{
 "cells": [
  {
   "cell_type": "markdown",
   "id": "2a908b9f-9e0f-4381-8b26-a069f6ff1892",
   "metadata": {},
   "source": [
    "<h2>Loss Function vs Cost Function</h2>\n",
    "\n",
    "<h3>1. Loss Function</h3>\n",
    "<ul>\n",
    "  <li><b>Definition (English):</b> The loss function calculates the error for a single training example (one sample).</li>\n",
    "  <li><b>Definition (Bengali):</b> একটি training example এর জন্য model এর prediction আর actual value এর মধ্যে পার্থক্য হিসাব করে।</li>\n",
    "  <li><b>Example:</b> Mean Squared Error for one sample.</li>\n",
    "  <li><b>Used in:</b> Backpropagation step during training.</li>\n",
    "</ul>\n",
    "\n",
    "<h3>2. Cost Function</h3>\n",
    "<ul>\n",
    "  <li><b>Definition (English):</b> The cost function is the average of the loss over the entire training dataset.</li>\n",
    "  <li><b>Definition (Bengali):</b> পুরো training dataset এর উপর সকল loss function এর গড় মান।</li>\n",
    "  <li><b>Example:</b> Mean of all individual squared errors (MSE).</li>\n",
    "  <li><b>Used in:</b> Optimization — helps minimize overall model error.</li>\n",
    "</ul>\n",
    "\n",
    "<h3>3. Key Differences</h3>\n",
    "<table border=\"1\" cellpadding=\"5\">\n",
    "  <tr>\n",
    "    <th>Aspect</th>\n",
    "    <th>Loss Function</th>\n",
    "    <th>Cost Function</th>\n",
    "  </tr>\n",
    "  <tr>\n",
    "    <td>Definition (English)</td>\n",
    "    <td>Error for one sample</td>\n",
    "    <td>Average error over all samples</td>\n",
    "  </tr>\n",
    "  <tr>\n",
    "    <td>Definition (Bengali)</td>\n",
    "    <td>একটি উদাহরণের জন্য ত্রুটি</td>\n",
    "    <td>সব উদাহরণের গড় ত্রুটি</td>\n",
    "  </tr>\n",
    "  <tr>\n",
    "    <td>Used in</td>\n",
    "    <td>Backpropagation (per sample)</td>\n",
    "    <td>Optimization (entire dataset)</td>\n",
    "  </tr>\n",
    "  <tr>\n",
    "    <td>Calculated on</td>\n",
    "    <td>One data point</td>\n",
    "    <td>All data points</td>\n",
    "  </tr>\n",
    "  <tr>\n",
    "    <td>Example</td>\n",
    "    <td>Squared error of one prediction</td>\n",
    "    <td>Mean Squared Error (MSE)</td>\n",
    "  </tr>\n",
    "</table>\n",
    "\n",
    "<h3>Summary</h3>\n",
    "<ul>\n",
    "  <li><b>Loss Function:</b> Individual prediction error</li>\n",
    "  <li><b>Cost Function:</b> Average of all losses over dataset</li>\n",
    "  <li><b>বাংলা সারাংশ:</b> Loss function একটি instance এর ভুল হিসাব করে, আর Cost function পুরো dataset এর উপর গড় ভুল দেখায়।</li>\n",
    "</ul>\n"
   ]
  },
  {
   "cell_type": "code",
   "execution_count": null,
   "id": "ca8fce21-74b7-4f72-ac52-8368f9fec2c6",
   "metadata": {},
   "outputs": [],
   "source": []
  }
 ],
 "metadata": {
  "kernelspec": {
   "display_name": "Python 3 (ipykernel)",
   "language": "python",
   "name": "python3"
  },
  "language_info": {
   "codemirror_mode": {
    "name": "ipython",
    "version": 3
   },
   "file_extension": ".py",
   "mimetype": "text/x-python",
   "name": "python",
   "nbconvert_exporter": "python",
   "pygments_lexer": "ipython3",
   "version": "3.10.0"
  }
 },
 "nbformat": 4,
 "nbformat_minor": 5
}
