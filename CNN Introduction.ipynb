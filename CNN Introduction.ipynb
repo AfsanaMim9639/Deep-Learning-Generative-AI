{
 "cells": [
  {
   "cell_type": "markdown",
   "id": "544da34c-e43d-4d3d-a962-e76cd7a797ab",
   "metadata": {},
   "source": [
    "<h2>Convolutional Neural Network (CNN)</h2>\n",
    "\n",
    "<p>\n",
    "CNN বা Convolutional Neural Network হলো একটি Deep Learning স্থাপত্য যা প্রধানত ছবি (image), ভিডিও এবং ভিজ্যুয়াল ডেটা বিশ্লেষণে ব্যবহৃত হয়। এটি বায়োলজিকাল ভিশন সিস্টেমের অনুকরণে তৈরি। CNN বিশেষভাবে ইমেজ থেকে ফিচার এক্সট্র্যাক্ট করার জন্য কার্যকরী।\n",
    "</p>\n",
    "\n",
    "<h3>CNN-এর প্রধান অংশসমূহ:</h3>\n",
    "<ul>\n",
    "  <li><strong>Convolutional Layer:</strong> এই লেয়ারে ফিল্টার বা কনভোলিউশন কণা (kernel) ব্যবহার করে ছবির ফিচার এক্সট্র্যাক্ট করা হয়।</li>\n",
    "  <li><strong>Activation Function:</strong> প্রতিটি কনভোলিউশন অপারেশনের পর ReLU বা অন্য অ্যাক্টিভেশন ফাংশন ব্যবহার করা হয়।</li>\n",
    "  <li><strong>Pooling Layer:</strong> ইমেজ ডেটার ডাইমেনশন কমিয়ে ফিচারগুলো সংরক্ষণ করে। সাধারণত MaxPooling ব্যবহৃত হয়।</li>\n",
    "  <li><strong>Fully Connected Layer:</strong> ফিচারগুলোকে ফ্ল্যাট করে ক্লাসিফিকেশন বা রিগ্রেশন আউটপুটের জন্য Fully Connected Neuron ব্যবহার করা হয়।</li>\n",
    "</ul>\n",
    "\n",
    "<h3>CNN কিভাবে কাজ করে:</h3>\n",
    "<ol>\n",
    "  <li>প্রথমে ইমেজ কনভোলিউশন লেয়ারের মাধ্যমে ফিচার ম্যাপে পরিণত হয়।</li>\n",
    "  <li>তারপর ফিচার ম্যাপকে ছোট করা হয় Pooling লেয়ারের মাধ্যমে।</li>\n",
    "  <li>এই ফিচারগুলো Flatten করে Fully Connected লেয়ারে পাঠানো হয়।</li>\n",
    "  <li>সর্বশেষে Softmax বা অন্য activation function ব্যবহার করে ক্লাসিফিকেশন করা হয়।</li>\n",
    "</ol>\n",
    "\n",
    "<h3>ব্যবহার ক্ষেত্র:</h3>\n",
    "<ul>\n",
    "  <li>ইমেজ ক্লাসিফিকেশন</li>\n",
    "  <li>অবজেক্ট ডিটেকশন</li>\n",
    "  <li>ফেস রিকগনিশন</li>\n",
    "  <li>মেডিকেল ইমেজ এনালাইসিস</li>\n",
    "</ul>\n",
    "\n",
    "<h3>উদাহরণ (Keras ব্যবহার করে একটি সাধারণ CNN):</h3>\n",
    "<pre>\n",
    "from tensorflow.keras.models import Sequential\n",
    "from tensorflow.keras.layers import Conv2D, MaxPooling2D, Flatten, Dense\n",
    "\n",
    "model = Sequential()\n",
    "model.add(Conv2D(32, (3, 3), activation='relu', input_shape=(64, 64, 3)))\n",
    "model.add(MaxPooling2D(pool_size=(2, 2)))\n",
    "\n",
    "model.add(Conv2D(64, (3, 3), activation='relu'))\n",
    "model.add(MaxPooling2D(pool_size=(2, 2)))\n",
    "\n",
    "model.add(Flatten())\n",
    "model.add(Dense(128, activation='relu'))\n",
    "model.add(Dense(10, activation='softmax'))\n",
    "</pre>\n"
   ]
  },
  {
   "cell_type": "code",
   "execution_count": null,
   "id": "d6d376d1-021b-4f5c-8f4c-bc8fad08d0ca",
   "metadata": {},
   "outputs": [],
   "source": []
  }
 ],
 "metadata": {
  "kernelspec": {
   "display_name": "Python 3 (ipykernel)",
   "language": "python",
   "name": "python3"
  },
  "language_info": {
   "codemirror_mode": {
    "name": "ipython",
    "version": 3
   },
   "file_extension": ".py",
   "mimetype": "text/x-python",
   "name": "python",
   "nbconvert_exporter": "python",
   "pygments_lexer": "ipython3",
   "version": "3.10.0"
  }
 },
 "nbformat": 4,
 "nbformat_minor": 5
}
